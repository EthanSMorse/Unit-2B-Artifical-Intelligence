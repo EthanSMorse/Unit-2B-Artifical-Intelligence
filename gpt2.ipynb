{
 "cells": [
  {
   "cell_type": "code",
   "execution_count": 2,
   "metadata": {},
   "outputs": [],
   "source": [
    "import gpt_2_simple as gpt2"
   ]
  },
  {
   "cell_type": "code",
   "execution_count": 3,
   "metadata": {},
   "outputs": [],
   "source": [
    "# gpt2.download_gpt2(model_name='124M')"
   ]
  },
  {
   "cell_type": "code",
   "execution_count": 4,
   "metadata": {},
   "outputs": [],
   "source": [
    "session = gpt2.start_tf_sess()"
   ]
  },
  {
   "cell_type": "code",
   "execution_count": 5,
   "metadata": {},
   "outputs": [
    {
     "name": "stderr",
     "output_type": "stream",
     "text": [
      "2023-12-19 09:35:52.145113: I tensorflow/compiler/mlir/mlir_graph_optimization_pass.cc:388] MLIR V1 optimization pass is not enabled\n"
     ]
    },
    {
     "name": "stdout",
     "output_type": "stream",
     "text": [
      "Loading checkpoint checkpoint/run1/model-189\n",
      "INFO:tensorflow:Restoring parameters from checkpoint/run1/model-189\n",
      "Loading dataset...\n"
     ]
    },
    {
     "name": "stderr",
     "output_type": "stream",
     "text": [
      "100%|██████████| 1/1 [00:00<00:00,  1.43it/s]\n"
     ]
    },
    {
     "name": "stdout",
     "output_type": "stream",
     "text": [
      "dataset has 338024 tokens\n",
      "Training...\n",
      "[190 | 17.85] loss=2.93 avg=2.93\n",
      "[191 | 35.04] loss=2.77 avg=2.85\n",
      "[192 | 50.82] loss=3.01 avg=2.90\n",
      "[193 | 66.22] loss=2.96 avg=2.92\n",
      "[194 | 82.11] loss=2.91 avg=2.91\n",
      "[195 | 97.43] loss=3.11 avg=2.95\n",
      "[196 | 113.38] loss=2.96 avg=2.95\n",
      "[197 | 129.11] loss=2.98 avg=2.95\n",
      "[198 | 147.00] loss=2.89 avg=2.95\n",
      "[199 | 166.11] loss=2.71 avg=2.92\n",
      "[200 | 182.60] loss=2.84 avg=2.91\n",
      "Saving checkpoint/run1/model-200\n"
     ]
    }
   ],
   "source": [
    "gpt2.finetune(session, \"shakespeare.txt\", model_name=\"124M\", steps=11)"
   ]
  },
  {
   "cell_type": "code",
   "execution_count": 6,
   "metadata": {},
   "outputs": [
    {
     "name": "stdout",
     "output_type": "stream",
     "text": [
      "Forlenza: Thou shalt not pass!\n",
      "\n",
      "LORD ROSS:\n",
      "Thy mother, she's a murderer,\n",
      "And thou shalt not pass.\n",
      "\n",
      "FRIAR LEWIS XI:\n",
      "What, is she dead?\n",
      "\n",
      "FRIAR LEWIS XI:\n",
      "How?\n",
      "\n",
      "LORD ROSS:\n",
      "That is a very grave matter,\n",
      "For the cause of her death is not yet known.\n",
      "\n",
      "FRIAR LEWIS XI:\n",
      "She was a friend of the King,\n",
      "And, under the watchful eye of his great king,\n",
      "She went to Rome to seek him out.\n",
      "\n",
      "FRIAR LEWIS XI:\n",
      "Then did she kill him; and, in her grief,\n",
      "She did not well to be loved; and, in weeping,\n",
      "She did not help him.\n",
      "\n",
      "FRIAR LEWIS XI:\n",
      "And, if she will, she will not do so.\n",
      "\n",
      "LORD ROSS:\n",
      "What, is she dead?\n",
      "\n",
      "FRIAR LEWIS XI:\n",
      "No, the Prince of Wales is dead,\n",
      "And the usurpation of his throne is fall.\n",
      "\n",
      "LORD ROSS:\n",
      "What, is she dead?\n",
      "\n",
      "FRIAR LEWIS XI:\n",
      "No, but the mighty Duke of York,\n",
      "And all the loyal friends of the king,\n",
      "Who from the very first fell for York.\n",
      "\n",
      "LORD ROSS:\n",
      "Why, is it now the Duke of York that I\n",
      "Hath stood in the royal house?\n",
      "\n",
      "FRIAR LEWIS XI:\n",
      "The Duke of Norfolk, the Duke of York,\n",
      "The traitor Edward the Fourth, and all these men\n",
      "All that have from the first been made enemies\n",
      "To the crown and our great king, and all that\n",
      "Have come to fight on his behalf,\n",
      "And all that have been made friends to him,\n",
      "Is gone to the pit of the sea,\n",
      "For the King of Naples is come.\n",
      "\n",
      "LORD ROSS:\n",
      "What news?\n",
      "\n",
      "FRIAR LEWIS XI:\n",
      "The Duke of York is gone.\n",
      "\n",
      "LORD ROSS:\n",
      "Why, is he gone?\n",
      "\n",
      "FRIAR LEWIS XI:\n",
      "What news?\n",
      "\n",
      "LORD ROSS:\n",
      "The Duke of York is gone.\n",
      "\n",
      "FRIAR LEWIS XI:\n",
      "Sir, come you to our house, where we stand\n",
      "Before the gate.\n",
      "\n",
      "LORD ROSS:\n",
      "I will not be denied.\n",
      "\n",
      "FRIAR LEWIS XI:\n",
      "We have heard of it.\n",
      "\n",
      "LORD ROSS:\n",
      "Great Warwick, Warwick, Warwick!\n",
      "\n",
      "FRIAR LEWIS XI:\n",
      "Henry and I, our friends,\n",
      "Are in the city.\n",
      "\n",
      "LORD ROSS:\n",
      "Come, come.\n",
      "\n",
      "FRIAR LEWIS XI:\n",
      "You are gone.\n",
      "\n",
      "LORD ROSS:\n",
      "Pray you, take us to our house.\n",
      "\n",
      "FRIAR LEWIS XI:\n",
      "Well, you are gone, sir, to your house.\n",
      "\n",
      "LORD ROSS:\n",
      "Come, come.\n",
      "\n",
      "FRIAR LEWIS XI:\n",
      "What, are you gone?\n",
      "\n",
      "LORD ROSS:\n",
      "Go, go, and not to my house,\n",
      "Nor to my stables, nor to the gates,\n",
      "Nor to my stables, nor to the gates,\n",
      "Nor to the gates, nor to the gates,\n",
      "Nor to my stables, nor to the gates,\n",
      "Nor everywhere, nor to the gates,\n",
      "Nor to the gates, nor unto the gates,\n",
      "Nor to the gates,nor unto thy house,\n",
      "Nor to the gates, nor to the gates,\n",
      "Nor to thy house, nor to thy stables,\n",
      "Nor anywhere, nor anywhere, nor to the gates;\n",
      "Nor to thy house, nor to the gates,\n",
      "Nor anywhere, nor to the gates, nor to the gates;\n",
      "Nor to thy stables, nor to the gates,\n",
      "Nor anywhere, nor to the gates, nor anywhere,\n",
      "Nor anywhere, nor anywhere, nor anywhere,\n",
      "Nor anywhere, nor anywhere, nor anywhere,\n",
      "Nor anywhere, nor anywhere, nor anywhere,\n",
      "Nor anywhere, nor ever\n",
      "Nor ever, nor ever, nor ever,\n",
      "Nor ever, nor ever, nor ever,\n",
      "Nor ever, nor ever, nor ever,\n",
      "Nor ever, nor ever, nor ever,\n",
      "Nor ever, nor ever, nor ever,\n",
      "Nor ever, nor ever, nor ever,\n",
      "Nor ever, nor ever, nor ever,\n",
      "Nor ever, nor ever, nor ever,\n",
      "Nor ever, nor ever, nor ever,\n",
      "Nor ever, nor ever, nor ever,\n",
      "Nor ever, nor ever, nor ever,\n",
      "Nor ever, nor ever, nor ever,\n",
      "\n"
     ]
    }
   ],
   "source": [
    "gpt2.generate(session, prefix=\"Forlenza: Thou shalt not pass!\")"
   ]
  }
 ],
 "metadata": {
  "kernelspec": {
   "display_name": "Python 3",
   "language": "python",
   "name": "python3"
  },
  "language_info": {
   "codemirror_mode": {
    "name": "ipython",
    "version": 3
   },
   "file_extension": ".py",
   "mimetype": "text/x-python",
   "name": "python",
   "nbconvert_exporter": "python",
   "pygments_lexer": "ipython3",
   "version": "3.10.8"
  },
  "orig_nbformat": 4,
  "vscode": {
   "interpreter": {
    "hash": "b0fa6594d8f4cbf19f97940f81e996739fb7646882a419484c72d19e05852a7e"
   }
  }
 },
 "nbformat": 4,
 "nbformat_minor": 2
}
