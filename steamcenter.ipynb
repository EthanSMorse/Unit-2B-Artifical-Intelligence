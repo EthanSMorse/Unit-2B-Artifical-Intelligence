{
 "cells": [
  {
   "cell_type": "code",
   "execution_count": 1,
   "metadata": {},
   "outputs": [],
   "source": [
    "import gpt_2_simple as gpt2"
   ]
  },
  {
   "cell_type": "code",
   "execution_count": 2,
   "metadata": {},
   "outputs": [],
   "source": [
    "session = gpt2.start_tf_sess()"
   ]
  },
  {
   "cell_type": "code",
   "execution_count": 3,
   "metadata": {},
   "outputs": [
    {
     "name": "stderr",
     "output_type": "stream",
     "text": [
      "2023-12-19 10:42:34.457969: I tensorflow/compiler/mlir/mlir_graph_optimization_pass.cc:388] MLIR V1 optimization pass is not enabled\n"
     ]
    },
    {
     "name": "stdout",
     "output_type": "stream",
     "text": [
      "Loading checkpoint checkpoint/STEAMcenter/model-20\n",
      "INFO:tensorflow:Restoring parameters from checkpoint/STEAMcenter/model-20\n",
      "Loading dataset...\n"
     ]
    },
    {
     "name": "stderr",
     "output_type": "stream",
     "text": [
      "100%|██████████| 1/1 [00:00<00:00, 1221.05it/s]"
     ]
    },
    {
     "name": "stdout",
     "output_type": "stream",
     "text": [
      "dataset has 2308 tokens\n",
      "Training...\n"
     ]
    },
    {
     "name": "stderr",
     "output_type": "stream",
     "text": [
      "\n"
     ]
    },
    {
     "name": "stdout",
     "output_type": "stream",
     "text": [
      "[21 | 17.92] loss=0.18 avg=0.18\n",
      "[22 | 35.63] loss=0.29 avg=0.24\n",
      "[23 | 52.73] loss=0.14 avg=0.20\n",
      "[24 | 69.56] loss=0.14 avg=0.19\n",
      "[25 | 86.22] loss=0.13 avg=0.18\n",
      "[26 | 102.61] loss=0.10 avg=0.16\n",
      "[27 | 119.40] loss=0.09 avg=0.15\n",
      "[28 | 136.05] loss=0.07 avg=0.14\n",
      "[29 | 152.94] loss=0.10 avg=0.14\n",
      "[30 | 169.65] loss=0.05 avg=0.13\n",
      "Saving checkpoint/STEAMcenter/model-30\n"
     ]
    }
   ],
   "source": [
    "gpt2.finetune(session, \"steamcenter.txt\", model_name=\"124M\", steps=10, run_name=\"STEAMcenter\")"
   ]
  },
  {
   "cell_type": "code",
   "execution_count": 6,
   "metadata": {},
   "outputs": [],
   "source": [
    "gpt2.generate(session, prefix=\"Q: Is there a difference between the STEAM Center and the Brooklyn STEAM Center tour?\")"
   ]
  }
 ],
 "metadata": {
  "kernelspec": {
   "display_name": "Python 3",
   "language": "python",
   "name": "python3"
  },
  "language_info": {
   "codemirror_mode": {
    "name": "ipython",
    "version": 3
   },
   "file_extension": ".py",
   "mimetype": "text/x-python",
   "name": "python",
   "nbconvert_exporter": "python",
   "pygments_lexer": "ipython3",
   "version": "3.10.8"
  },
  "orig_nbformat": 4,
  "vscode": {
   "interpreter": {
    "hash": "b0fa6594d8f4cbf19f97940f81e996739fb7646882a419484c72d19e05852a7e"
   }
  }
 },
 "nbformat": 4,
 "nbformat_minor": 2
}
